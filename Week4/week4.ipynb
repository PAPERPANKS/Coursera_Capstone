{
    "cells": [
        {
            "metadata": {
                "collapsed": true
            },
            "cell_type": "markdown",
            "source": "# 1. Introduction"
        },
        {
            "metadata": {},
            "cell_type": "markdown",
            "source": "## 1.1 Background"
        },
        {
            "metadata": {},
            "cell_type": "markdown",
            "source": "<p>Scarborough is a popular destination for new immigrants in Canada to reside. As a result, it is one of the most diverse and multicultural areas in the Greater Toronto Area, being home to various religious groups and places of worship. Although immigration has become a hot topic over the past few years with more governments seeking more restrictions on immigrants and refugees, the general trend of immigration into Canada has been one of on the rise.</p>"
        },
        {
            "metadata": {},
            "cell_type": "markdown",
            "source": "## 1.2 Problem"
        },
        {
            "metadata": {},
            "cell_type": "markdown",
            "source": "The purpose of this Project is to help people in exploring better facilities around their neighborhood. It will help people making smart and efficient decision on selecting great neighborhood out of numbers of other neighborhoods in Scarborough, Toranto.\n\nLots of people are migrating to various states of Canada and needed lots of research for good housing prices and reputated schools for their children. This project is for those people who are looking for better neighborhoods. For ease of accessing to Cafe, School, Super market, medical shops, grocery shops, mall, theatre, hospital, like minded people, etc.\n\nThis Project aim to create an analysis of features for a people migrating to Scarborough to search a best neighborhood as a comparative analysis between neighborhoods. The features include median housing price and better school according to ratings, crime rates of that particular area, road connectivity, weather conditions, good management for emergency, water resources both freash and waste water and excrement conveyed in sewers and recreational facilities.\n\nIt will help people to get awareness of the area and neighborhood before moving to a new city, state, country or place for their work or to start a new fresh life."
        },
        {
            "metadata": {},
            "cell_type": "markdown",
            "source": "## 1.3 Interest"
        },
        {
            "metadata": {},
            "cell_type": "markdown",
            "source": "I believe this is a relevant challenge with valid questions for anyone moving to other large city in US, EU or Asia. The same methodology can be applied in accordance to demands as applicable.\nThis case is also applicable for anyone interested in exploring starting or locating a new business in any city. Lastly, it can also serve as a good practical exercise to develop Data Science skills."
        },
        {
            "metadata": {},
            "cell_type": "markdown",
            "source": "# 2. Data Section"
        },
        {
            "metadata": {},
            "cell_type": "markdown",
            "source": "## 2.1 Data sources"
        },
        {
            "metadata": {},
            "cell_type": "markdown",
            "source": "For the Toronto neighborhood data, a Wikipedia page exists that has all the information we need to explore and cluster the neighborhoods in Toronto. We'll be required to scrape the Wikipedia page and wrangle the data, clean it, and then read it into a pandas dataframe so that it is in a structured format.\n\n* [List of postal codes of Canada: M](https://en.wikipedia.org/wiki/List_of_postal_codes_of_Canada:_M)\n* Link to a csv file that has the geographical coordinates of each postal code: [Geospatial Data](http://cocl.us/Geospatial_data)"
        },
        {
            "metadata": {},
            "cell_type": "markdown",
            "source": "## 2.2 Description of the Data"
        },
        {
            "metadata": {},
            "cell_type": "markdown",
            "source": "* The dataframe will consist of three columns: **PostalCode**, **Borough**, and **Neighborhood**\n* More than one neighborhood can exist in one postal code area. For example, in the table on the Wikipedia page, you will notice that M5A is listed twice and has two neighborhoods: Harbourfront and Regent Park.\n* Ignore cells with a borough that is **Not assigned**.\n"
        },
        {
            "metadata": {},
            "cell_type": "markdown",
            "source": "* Foursquare API: This project would use Four-square API as its prime data gathering source as it has a database of millions of places, especially their places API which provides the ability to perform location search, location sharing and details about a business.\n\n* Work Flow: Using credentials of Foursquare API features of near-by places of the neighborhoods would be mined. Due to http request limitations the number of places per neighborhood parameter would reasonably be set to 100 and the radius parameter would be set to 500."
        },
        {
            "metadata": {},
            "cell_type": "markdown",
            "source": "## 2.3 Libraries used\n\n* Pandas: For creating and manipulating dataframes.\n\n* Folium: Python visualization library would be used to visualize the neighborhoods cluster distribution of using interactive leaflet map.\n\n* Scikit Learn: For importing k-means clustering.\n\n* JSON: Library to handle JSON files.\n\n* XML: To separate data from presentation and XML stores data in plain text format.\n\n* Geocoder: To retrieve Location Data.\n\n* Beautiful Soup and Requests: To scrap and library to handle http requests.\n\n* Matplotlib: Python Plotting Module."
        },
        {
            "metadata": {},
            "cell_type": "markdown",
            "source": "## 2.4 Dataframes"
        },
        {
            "metadata": {},
            "cell_type": "markdown",
            "source": "* Postal Code Dataframe\n\n<img src=\"https://i.ibb.co/gwQj5Q9/image.png\" alt=\"Postal Code Dataframe\" border=\"0\" />\n\n* Geospatial Dataframe\n\n<img src=\"https://i.ibb.co/0BnFQgW/image.png\" alt=\"Geospatial Dataframe\" border=\"0\">\n\n* Merged Dataframe\n\n<img src=\"https://i.ibb.co/c8HMzvk/image.png\" alt=\"Merged Dataframe\" border=\"0\">"
        }
    ],
    "metadata": {
        "kernelspec": {
            "name": "python3",
            "display_name": "Python 3.6",
            "language": "python"
        },
        "language_info": {
            "name": "python",
            "version": "3.6.9",
            "mimetype": "text/x-python",
            "codemirror_mode": {
                "name": "ipython",
                "version": 3
            },
            "pygments_lexer": "ipython3",
            "nbconvert_exporter": "python",
            "file_extension": ".py"
        }
    },
    "nbformat": 4,
    "nbformat_minor": 1
}